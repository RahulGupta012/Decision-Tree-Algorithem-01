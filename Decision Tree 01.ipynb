{
 "cells": [
  {
   "cell_type": "markdown",
   "id": "fe25f641-4555-40eb-99f9-3611f10bfba1",
   "metadata": {},
   "source": [
    "# Decision Tree 01"
   ]
  },
  {
   "cell_type": "markdown",
   "id": "0441a1fb-7f4e-44c5-aa75-a5f5728d28e7",
   "metadata": {},
   "source": [
    "_____________________________________________________________"
   ]
  },
  {
   "cell_type": "markdown",
   "id": "5011477b-bd3d-4df9-aa20-c0453d853e75",
   "metadata": {},
   "source": [
    "# Q1. Describe the decision tree classifier algorithm and how it works to make predictions."
   ]
  },
  {
   "cell_type": "markdown",
   "id": "67252643-96e2-4e03-a3a6-64ac7082d265",
   "metadata": {},
   "source": [
    "Decision tree is a supervised meachine learning technique which is usually used for classfication problem , however it is also can be used to solving the regression problem.As it is clear by its name , we make structure like the tree for taking the desicions in it. Where nodes of the structer represent the feature of data set and branches indicate the rules and when we have remain a set of nodes , in which one is leaf node ..then the formation of the tree will close. This leaf node also called the pure split. Leaf note basically mean to node , where output is specific and clear(probability 100%). \n",
    "Decision tree classifier has been divided into two parts :\n",
    "\n",
    "1. ID3 (Iterative Dichotomiser 3)  : Can be used for multi value splits\n",
    "2. CART (Classifier and Regression Tree) : Used in Binary splits\n",
    "\n"
   ]
  },
  {
   "cell_type": "markdown",
   "id": "c11c9f5d-0d86-419d-9c29-16ac90ad9a6b",
   "metadata": {},
   "source": [
    "# Q2. Provide a step-by-step explanation of the mathematical intuition behind decision tree classification."
   ]
  },
  {
   "attachments": {
    "17f06554-0888-4441-9991-0970ca9fd108.PNG": {
     "image/png": "[encoded data removed]"
    },
    "eb0f0f49-673e-446f-b4cd-db8008dc9ed9.PNG": {
     "image/png": "[encoded data removed]"
    },
    "f4693768-cb66-4800-bf7f-4b2fe7277e27.PNG": {
     "image/png": "[encoded data removed]"
    }
   },
   "cell_type": "markdown",
   "id": "d958d0f9-7c4a-4708-8a73-75d053dd630f",
   "metadata": {},
   "source": [
    "To start the classification by the decision tree, we need to get a starting point or intial node..that starting point is suggested by the 'Information gain' . and for understanding the concept of information gain, we need to understand the concept of Purity check.These concepts are illusrated above :\n",
    "\n",
    "                            \n",
    "                                    **Purity Check**  \n",
    "                                    \n",
    "\n",
    "There are two types of node or splits , such as 'Pure Split' and 'Impure Split'. \n",
    "\n",
    "***Pure split*** : basically it indicates the certainity , it means that there are only one type of result in that split and rest of are all zero..ie...0 yes 4 Not or 6 Not and 0 Yes.\n",
    "\n",
    "***Impure Split*** : It indicate the uncertaintinty for the outcome to a split. As thev ratio of the outcomes is large the impurity of the split said to be more impure accordingly...ie...a node has 5 yes 1 NO is impure split ....and if another node has 8 Yes and 7 NO is more impure node from the one.\n",
    "\n",
    "  \n",
    "                         Purity and Impurity Scales and Measurements\n",
    "                         \n",
    "                         \n",
    "  For deciding whether a node is pure and impure we can take the help of two perametrs, which are:\n",
    "  \n",
    "**Entropy** : In decision trees, entropy is a measure of impurity or disorder in a node. It's used to evaluate the homogeneity of a dataset and determine the best split for building a decision tree model. The value of Entropy is always between 0 to 1 . It is recomended for smaller data set.\n",
    "\n",
    "HS = -P+ log2P + -P -log2P-\n",
    "\n",
    "- Where P+ indicates the probability of the positive category\n",
    "- and P- indicates the probability of Negative category\n",
    "\n",
    "When Hs= 0 it means that split is pure. and if Hs= 1 it means split is impure.\n",
    "\n",
    "\n",
    "**Gini Impurity**  : The Gini impurity is a measure of how often a randomly chosen element would be incorrectly classified. It is recomnded for hudge data set. Range of gini Impurity is between to 0 to 0.5.\n",
    "\n",
    "\n",
    "![Gini Entropy.PNG](attachment:17f06554-0888-4441-9991-0970ca9fd108.PNG)\n",
    "\n",
    "Where \n",
    "- D is the node\n",
    "- c is the number of classes\n",
    "- pi is the proportion of instances of class i in the node.\n",
    "\n",
    "\n",
    "For Binary Classifiaction, it simplyfies to\n",
    "\n",
    "![gini.PNG](attachment:f4693768-cb66-4800-bf7f-4b2fe7277e27.PNG)\n",
    "\n",
    "where p1 and p1\n",
    "  are the proportions of instances of class 0 and class 1 in the node, respectively.\n",
    "  \n",
    "  \n",
    "  \n",
    "  \n",
    "                                       Information Gain\n",
    "                                       \n",
    " \n",
    " It basically make us reach to that feature , which we need first to slelect the split from where, we should start the Decision Tree. Information Gain measures the effectiveness of a split in reducing entropy. It represents the reduction in uncertainty achieved by partitioning a dataset based on an attribute.     \n",
    " Decision tree algorithms aim to maximize Information Gain when choosing which attribute to split on. A higher Information Gain implies a more effective reduction in uncertainty.\n",
    "                                       \n",
    "                                    \n",
    "![Inforamation Gain.PNG](attachment:eb0f0f49-673e-446f-b4cd-db8008dc9ed9.PNG)   \n",
    "\n",
    "where\n",
    "- IG(D,A) is the Information Gain for dataset D and A attribute \n",
    "- H(D) is the entropy of dataset D before the split,\n",
    "- Values(A) are the possible values of A attribute \n",
    "- |Dv∣ is the size of the subset for which attribute A has value is v \n",
    "- H (Dv)is the entropy of the subset for which attribute A has value v\n",
    "                                \n",
    "  \n",
    "  \n",
    "  "
   ]
  },
  {
   "cell_type": "markdown",
   "id": "7d4a2148-3a9b-428b-b4cf-64708220f933",
   "metadata": {},
   "source": [
    "# Q3. Explain how a decision tree classifier can be used to solve a binary classification problem."
   ]
  },
  {
   "cell_type": "markdown",
   "id": "2aa77b6d-c6be-4b4e-97e3-cb761fea47fb",
   "metadata": {},
   "source": [
    "As we have already much discused it above so we can focus on the advantages of the decision tree classifier to solve the binary problems.\n",
    "\n",
    "**Interpretability**: Decision trees are easy to interpret and visualize, making them useful for understanding the decision-making process.\n",
    "\n",
    "**Handling Nonlinear Relationships**: Decision trees can capture complex, nonlinear relationships between features and the target variable.\n",
    "\n",
    "**No Feature Scaling**: Decision trees are not sensitive to the scale of features, unlike some other algorithms."
   ]
  }
 ],
 "metadata": {
  "kernelspec": {
   "display_name": "Python 3 (ipykernel)",
   "language": "python",
   "name": "python3"
  },
  "language_info": {
   "codemirror_mode": {
    "name": "ipython",
    "version": 3
   },
   "file_extension": ".py",
   "mimetype": "text/x-python",
   "name": "python",
   "nbconvert_exporter": "python",
   "pygments_lexer": "ipython3",
   "version": "3.10.8"
  }
 },
 "nbformat": 4,
 "nbformat_minor": 5
}
